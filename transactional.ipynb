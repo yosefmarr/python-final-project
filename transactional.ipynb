{
 "cells": [
  {
   "cell_type": "code",
   "execution_count": 2,
   "id": "929adb60-44e5-49db-a36e-cf52955d1e14",
   "metadata": {
    "tags": []
   },
   "outputs": [],
   "source": [
    "import boto3\n",
    "import pandas as pd\n",
    "import numpy as np\n",
    "import configparser\n",
    "import psycopg2"
   ]
  },
  {
   "cell_type": "code",
   "execution_count": 5,
   "id": "2fdf7538-6bb1-4b33-9c07-22dfe6703e8e",
   "metadata": {
    "tags": []
   },
   "outputs": [
    {
     "data": {
      "text/plain": [
       "['config.cfg']"
      ]
     },
     "execution_count": 5,
     "metadata": {},
     "output_type": "execute_result"
    }
   ],
   "source": [
    "config = configparser.ConfigParser()\n",
    "config.read('config.cfg')"
   ]
  },
  {
   "cell_type": "code",
   "execution_count": null,
   "id": "7d206611-99eb-41f7-9cec-a540c5c16705",
   "metadata": {},
   "outputs": [],
   "source": [
    "access_key = config.get('IAM', 'ACCESS_KEY')\n",
    "secret_key = config.get('IAM', 'SECRET_KEY')\n",
    "region = config.get('REGION', 'REGION_NAME')\n",
    "\n",
    "aws_rds_conn = boto3.client('rds', \n",
    "                            aws_access_key_id=access_key, \n",
    "                            aws_secret_access_key=secret_key, \n",
    "                            region_name=region)"
   ]
  },
  {
   "cell_type": "code",
   "execution_count": null,
   "id": "c6d749f0-5291-4b06-ba5d-c17f781f381b",
   "metadata": {},
   "outputs": [],
   "source": [
    "db_instance_id = config.get('DB', 'DB_INSTANCE_ID')\n",
    "db_name = config.get('DB', 'DB_NAME')\n",
    "db_username = config.get('DB', 'DB_USERNAME')\n",
    "db_password = config.get('DB', 'DB_PASSWORD')\n",
    "db_port = config.get('DB', 'DB_PORT')\n",
    "\n",
    "vpc_security_group = config.get('VPC', 'SECURITY_GROUP')\n",
    "\n",
    "try:\n",
    "    response = aws_rds_conn.create_db_instance(\n",
    "        DBInstanceIdentifier=db_instance_id,\n",
    "        DBName=db_name,\n",
    "        MasterUsername=db_username,\n",
    "        MasterUserPassword=db_password,\n",
    "        Port=int(db_port),\n",
    "        DBInstanceClass='db.t3.micro',\n",
    "        Engine='postgres',\n",
    "        PubliclyAccessible=True,\n",
    "        AllocatedStorage=20,\n",
    "        VpcSecurityGroupIds=[vpc_security_group]\n",
    "    )\n",
    "    print(response)\n",
    "except aws_rds_conn.exceptions.DBInstanceAlreadyExistsFault:\n",
    "    print('La instancia ya existe')\n",
    "except Exception as ex:\n",
    "    print(f\"Error: ${ex}\")"
   ]
  }
 ],
 "metadata": {
  "kernelspec": {
   "display_name": "Python 3 (ipykernel)",
   "language": "python",
   "name": "python3"
  },
  "language_info": {
   "codemirror_mode": {
    "name": "ipython",
    "version": 3
   },
   "file_extension": ".py",
   "mimetype": "text/x-python",
   "name": "python",
   "nbconvert_exporter": "python",
   "pygments_lexer": "ipython3",
   "version": "3.11.5"
  }
 },
 "nbformat": 4,
 "nbformat_minor": 5
}
