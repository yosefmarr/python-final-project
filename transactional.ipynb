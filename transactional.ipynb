{
 "cells": [
  {
   "cell_type": "code",
   "execution_count": 13,
   "id": "929adb60-44e5-49db-a36e-cf52955d1e14",
   "metadata": {
    "tags": []
   },
   "outputs": [],
   "source": [
    "import boto3\n",
    "import pandas as pd\n",
    "import numpy as np\n",
    "import configparser\n",
    "import psycopg2\n",
    "import hashlib\n",
    "import uuid\n",
    "from faker import Faker\n",
    "import random"
   ]
  },
  {
   "cell_type": "markdown",
   "id": "2596259c-e695-4a9e-bd6e-3778fb21070f",
   "metadata": {},
   "source": [
    "# Config setup"
   ]
  },
  {
   "cell_type": "code",
   "execution_count": 15,
   "id": "2fdf7538-6bb1-4b33-9c07-22dfe6703e8e",
   "metadata": {
    "tags": []
   },
   "outputs": [
    {
     "data": {
      "text/plain": [
       "['transactional_config.cfg']"
      ]
     },
     "execution_count": 15,
     "metadata": {},
     "output_type": "execute_result"
    }
   ],
   "source": [
    "config = configparser.ConfigParser()\n",
    "config.read('transactional_config.cfg')"
   ]
  },
  {
   "cell_type": "markdown",
   "id": "877cac2f-420d-4f05-a5fd-ade59842823b",
   "metadata": {},
   "source": [
    "# AWS client connection"
   ]
  },
  {
   "cell_type": "code",
   "execution_count": 16,
   "id": "7d206611-99eb-41f7-9cec-a540c5c16705",
   "metadata": {
    "tags": []
   },
   "outputs": [],
   "source": [
    "access_key = config.get('IAM', 'ACCESS_KEY')\n",
    "secret_key = config.get('IAM', 'SECRET_KEY')\n",
    "region = config.get('REGION', 'REGION_NAME')\n",
    "\n",
    "aws_rds_conn = boto3.client('rds', \n",
    "                            aws_access_key_id=access_key, \n",
    "                            aws_secret_access_key=secret_key, \n",
    "                            region_name=region)"
   ]
  },
  {
   "cell_type": "markdown",
   "id": "78ffa035-63dd-4e23-89dc-7b8c51e7b1ee",
   "metadata": {},
   "source": [
    "# AWS RDS creation"
   ]
  },
  {
   "cell_type": "code",
   "execution_count": 17,
   "id": "f6d090d4-8b82-403c-b9a6-796c52dc1365",
   "metadata": {
    "tags": []
   },
   "outputs": [],
   "source": [
    "db_instance_id = config.get('DB', 'DB_INSTANCE_ID')\n",
    "db_name = config.get('DB', 'DB_NAME')\n",
    "db_username = config.get('DB', 'DB_USERNAME')\n",
    "db_password = config.get('DB', 'DB_PASSWORD')\n",
    "db_port = config.get('DB', 'DB_PORT')\n",
    "vpc_security_group = config.get('VPC', 'SECURITY_GROUP')"
   ]
  },
  {
   "cell_type": "code",
   "execution_count": 18,
   "id": "c6d749f0-5291-4b06-ba5d-c17f781f381b",
   "metadata": {
    "tags": []
   },
   "outputs": [
    {
     "name": "stdout",
     "output_type": "stream",
     "text": [
      "La instancia ya existe\n"
     ]
    }
   ],
   "source": [
    "try:\n",
    "    response = aws_rds_conn.create_db_instance(\n",
    "        DBInstanceIdentifier=db_instance_id,\n",
    "        DBName=db_name,\n",
    "        MasterUsername=db_username,\n",
    "        MasterUserPassword=db_password,\n",
    "        Port=int(db_port),\n",
    "        DBInstanceClass='db.t3.micro',\n",
    "        Engine='postgres',\n",
    "        PubliclyAccessible=True,\n",
    "        AllocatedStorage=20,\n",
    "        VpcSecurityGroupIds=[vpc_security_group]\n",
    "    )\n",
    "    print(response)\n",
    "except aws_rds_conn.exceptions.DBInstanceAlreadyExistsFault:\n",
    "    print('La instancia ya existe')\n",
    "except Exception as ex:\n",
    "    print(f\"Error: ${ex}\")"
   ]
  },
  {
   "cell_type": "markdown",
   "id": "07188c09-57f1-414b-82d6-4073c6ec019a",
   "metadata": {},
   "source": [
    "# RDS host name"
   ]
  },
  {
   "cell_type": "code",
   "execution_count": 19,
   "id": "cecbc619-5d66-46a0-8d79-a9850b9316ce",
   "metadata": {
    "tags": []
   },
   "outputs": [
    {
     "name": "stdout",
     "output_type": "stream",
     "text": [
      "shop.cbcgkqa406pn.us-east-2.rds.amazonaws.com\n"
     ]
    }
   ],
   "source": [
    "try:\n",
    "    instance = aws_rds_conn.describe_db_instances(DBInstanceIdentifier=db_instance_id)\n",
    "    RDS_HOST_NAME = instance.get('DBInstances')[0].get('Endpoint').get('Address')\n",
    "    print(RDS_HOST_NAME)\n",
    "except Exception as ex:\n",
    "    print('Error: ', ex)"
   ]
  },
  {
   "cell_type": "markdown",
   "id": "33b46a21-6c77-40ff-9186-75c237d93f1f",
   "metadata": {},
   "source": [
    "# Clean Step (only if it had been run before)"
   ]
  },
  {
   "cell_type": "code",
   "execution_count": 20,
   "id": "be9253c9-7af1-4b90-8dda-225e4b79efc2",
   "metadata": {
    "tags": []
   },
   "outputs": [
    {
     "name": "stdout",
     "output_type": "stream",
     "text": [
      "clean step finished\n"
     ]
    }
   ],
   "source": [
    "import clean_step\n",
    "\n",
    "try:\n",
    "    db_pg_conn = psycopg2.connect(\n",
    "        database=db_name,\n",
    "        user=db_username,\n",
    "        password=db_password,\n",
    "        port=db_port,\n",
    "        host=RDS_HOST_NAME\n",
    "    )\n",
    "    cursor = db_pg_conn.cursor()\n",
    "    cursor.execute(clean_step.SQL_QUERY_DELETE_RESET)\n",
    "    db_pg_conn.commit()\n",
    "    print('clean step finished')\n",
    "except Exception as ex:\n",
    "    print('Error: ', ex)"
   ]
  },
  {
   "cell_type": "markdown",
   "id": "ab204991-65c5-4eba-9d05-73331acff2bd",
   "metadata": {},
   "source": [
    "# Creation of transactional system"
   ]
  },
  {
   "cell_type": "code",
   "execution_count": 21,
   "id": "f516742b-54e5-4861-b38e-b4d4910e06a1",
   "metadata": {
    "tags": []
   },
   "outputs": [
    {
     "name": "stdout",
     "output_type": "stream",
     "text": [
      "transactional tables created\n"
     ]
    }
   ],
   "source": [
    "import create_transactional\n",
    "\n",
    "try:\n",
    "    db_pg_conn = psycopg2.connect(\n",
    "        database=db_name,\n",
    "        user=db_username,\n",
    "        password=db_password,\n",
    "        port=db_port,\n",
    "        host=RDS_HOST_NAME\n",
    "    )\n",
    "    cursor = db_pg_conn.cursor()\n",
    "    cursor.execute(create_transactional.DDL_QUERY)\n",
    "    db_pg_conn.commit()\n",
    "    print('transactional tables created')\n",
    "except Exception as ex:\n",
    "    print('Error: ', ex)"
   ]
  },
  {
   "cell_type": "markdown",
   "id": "e157bc62-309d-41c9-8994-a507cb7f975b",
   "metadata": {},
   "source": [
    "# Faker helper functions"
   ]
  },
  {
   "cell_type": "code",
   "execution_count": 23,
   "id": "9dd45644-af82-49de-b3bf-3f1b9a34c069",
   "metadata": {
    "tags": []
   },
   "outputs": [],
   "source": [
    "fake = Faker()\n",
    "\n",
    "# Generar datos para \"categoria\"\n",
    "categorias_con_descripciones = {\n",
    "    'Electrónica': 'Dispositivos y gadgets tecnológicos de última generación.',\n",
    "    'Ropa Hombres': 'Moda y accesorios para el vestuario masculino.',\n",
    "    'Ropa Mujeres': 'Colecciones y tendencias de moda femenina.',\n",
    "    'Juguetes': 'Juguetes educativos y de entretenimiento para niños de todas las edades.',\n",
    "    'Alimentos': 'Productos alimenticios frescos y procesados para tu despensa.',\n",
    "    'Bebidas': 'Variedad de bebidas refrescantes, alcohólicas y no alcohólicas.',\n",
    "    'Libros': 'Literatura, ficción, educativos y más géneros para todos los lectores.',\n",
    "    'Artículos de Oficina': 'Suministros y mobiliario para mejorar tu espacio de trabajo.',\n",
    "    'Deportes': 'Equipamiento y ropa deportiva para todas tus actividades físicas.',\n",
    "    'Zapatos': 'Calzado cómodo y estilizado para hombres, mujeres y niños.',\n",
    "    'Accesorios': 'Complementos perfectos para realzar cualquier atuendo.',\n",
    "    'Belleza y Cuidado Personal': 'Productos para cuidado de la piel, cabello y belleza general.',\n",
    "    'Hogar y Cocina': 'Artículos para equipar y decorar tu hogar y cocina.',\n",
    "    'Jardinería': 'Herramientas y decoraciones para mantener tu jardín hermoso.',\n",
    "    'Mascotas': 'Alimentos, juguetes y accesorios para el bienestar de tus mascotas.',\n",
    "    'Automóviles': 'Accesorios, herramientas y tecnología para tu coche.',\n",
    "    'Música': 'Instrumentos musicales y accesorios para aficionados y profesionales.',\n",
    "    'Videojuegos': 'Consolas, videojuegos y accesorios para gamers.',\n",
    "    'Fotografía': 'Cámaras, lentes y accesorios para fotógrafos.',\n",
    "    'Celulares y Accesorios': 'Los últimos smartphones y complementos para estar siempre conectado.',\n",
    "    'Computación': 'Hardware, software y periféricos para tus necesidades informáticas.',\n",
    "    'Audio y Video': 'Equipos de sonido y video para una experiencia multimedia completa.',\n",
    "    'Salud y Bienestar': 'Productos para mantener un estilo de vida saludable y activo.',\n",
    "    'Joyería': 'Joyas finas y relojería para ocasiones especiales.',\n",
    "    'Relojes': 'Una amplia selección de relojes para cada estilo y ocasión.'\n",
    "}\n",
    "\n",
    "def generar_categorias():\n",
    "    return [\n",
    "        {\n",
    "            'nombre': nombre, \n",
    "            'descripcion': descripcion,\n",
    "            'estado': True\n",
    "        } for nombre, descripcion in categorias_con_descripciones.items()\n",
    "    ]\n",
    "\n",
    "# Generar datos para \"rol\"\n",
    "roles_tiendas = [\n",
    "    ('Administrador', 'Responsable de gestionar la tienda, incluidos productos, personal y finanzas'),\n",
    "    ('Vendedor', 'Encargado de las ventas y la atención al cliente en el piso de ventas'),\n",
    "    ('Cajero', 'Gestiona las transacciones de pago y emite recibos a los clientes'),\n",
    "    ('Gerente de Producto', 'Supervisa la selección, precios y promoción de los productos'),\n",
    "    ('Soporte Técnico', 'Proporciona asistencia técnica para productos electrónicos y software'),\n",
    "    ('Gerente de Marketing', 'Desarrolla estrategias de marketing y publicidad para la tienda'),\n",
    "    ('Gerente de RR.HH.', 'Administra la contratación, formación y políticas de recursos humanos'),\n",
    "]\n",
    "def generar_roles():\n",
    "    return [\n",
    "        {\n",
    "            'nombre': rol[0], \n",
    "            'descripcion': rol[1],\n",
    "            'estado': True\n",
    "        } for rol in roles_tiendas\n",
    "    ]\n",
    "\n",
    "\n",
    "# Generar datos para \"articulo\"\n",
    "def generar_articulo(idcategoria):\n",
    "    return {\n",
    "        'idcategoria': idcategoria,\n",
    "        'codigo': fake.bothify(text='???-###'),\n",
    "        'nombre': fake.word(),\n",
    "        'precio_venta': round(random.uniform(10, 1000), 2),\n",
    "        'stock': fake.random_int(min=0, max=100),\n",
    "        'descripcion': fake.text(max_nb_chars=50),\n",
    "        'imagen': fake.file_name(category='image'),\n",
    "        'estado': fake.boolean()\n",
    "    }\n",
    "\n",
    "# Generar datos para \"persona\"\n",
    "def generar_persona():\n",
    "    tipo_persona = random.choice(['cliente', 'proveedor'])\n",
    "    tipo_documento = random.choice(['DNI', 'CE', 'PAS'])\n",
    "    return {\n",
    "        'tipo_persona': tipo_persona,\n",
    "        'nombre': fake.name()[:100],\n",
    "        'tipo_documento': tipo_documento,\n",
    "        'num_documento': fake.bothify(text='########'),\n",
    "        'direccion': fake.address()[:70],\n",
    "        'telefono': fake.phone_number()[:20],\n",
    "        'email': fake.email()\n",
    "    }\n",
    "\n",
    "\n",
    "# Generar datos para \"usuario\"\n",
    "def generar_usuario(idrol):\n",
    "    tipo_documento = random.choice(['DNI', 'CE', 'PAS'])\n",
    "    return {\n",
    "        'idrol': idrol,\n",
    "        'nombre': fake.name()[:100],\n",
    "        'tipo_documento': tipo_documento[:20],\n",
    "        'num_documento': fake.bothify(text='########')[:20],\n",
    "        'direccion': fake.address()[:70],\n",
    "        'telefono': fake.phone_number()[:20],\n",
    "        'email': fake.email()[:50],\n",
    "        'clave': fake.binary(length=16),\n",
    "        'estado': fake.boolean()\n",
    "    }\n",
    "\n",
    "# Generar datos para \"venta\"\n",
    "def generar_venta(idventa, idcliente, idusuario, total, num_serie, num_comprobante):\n",
    "    tipo_comprobante = random.choice(['Factura', 'Boleta'])\n",
    "    return {\n",
    "        'idventa': idventa,\n",
    "        'idcliente': idcliente,\n",
    "        'idusuario': idusuario,\n",
    "        'tipo_comprobante': tipo_comprobante,\n",
    "        'serie_comprobante': num_serie,\n",
    "        'num_comprobante': num_comprobante,\n",
    "        'fecha': fake.date_time_this_year(),\n",
    "        'impuesto': round(total * 0.07, 2),\n",
    "        'total': total,\n",
    "        'estado': random.choice(['Pagado', 'Pendiente', 'Anulado'])\n",
    "    }\n",
    "\n",
    "# Generar datos para \"detalle_venta\"\n",
    "def generar_detalle_venta(idventa, idarticulo):\n",
    "    return {\n",
    "        'idventa': idventa,\n",
    "        'idarticulo': idarticulo,\n",
    "        'cantidad': fake.random_int(min=1, max=10),\n",
    "        'precio': round(random.uniform(10, 100), 2),\n",
    "        'descuento': round(random.uniform(0, 10), 2)\n",
    "    }\n",
    "\n",
    "# Generar datos para \"ingreso\"\n",
    "def generar_ingreso(idingreso, idproveedor, idusuario, total, num_serie, num_comprobante):\n",
    "    tipo_comprobante = random.choice(['Factura', 'Boleta', 'Ticket'])\n",
    "    return {\n",
    "        'idingreso': idingreso,\n",
    "        'idproveedor': idproveedor,\n",
    "        'idusuario': idusuario,\n",
    "        'tipo_comprobante': tipo_comprobante,\n",
    "        'serie_comprobante': num_serie,\n",
    "        'num_comprobante': num_comprobante,\n",
    "        'fecha': fake.date_time_this_year(),\n",
    "        'impuesto': round(total * 0.07, 2),\n",
    "        'total': total,\n",
    "        'estado': random.choice(['Recibido', 'Pendiente', 'Anulado'])\n",
    "    }\n",
    "\n",
    "# Generar datos para \"detalle_ingreso\"\n",
    "def generar_detalle_ingreso(idingreso, idarticulo):\n",
    "    return {\n",
    "        'idingreso': idingreso,\n",
    "        'idarticulo': idarticulo,\n",
    "        'cantidad': fake.random_int(min=1, max=100),\n",
    "        'precio': round(random.uniform(10, 100), 2)\n",
    "    }\n",
    "\n",
    "# Insertar datos\n",
    "def insertData2SQL(data_dict, table_name, driver):\n",
    "    df_data = pd.DataFrame.from_records(data_dict)\n",
    "    try:\n",
    "        response = df_data.to_sql(table_name, driver, index=False, if_exists='append')\n",
    "        print(f\"Se han insertado {response} nuevos registros\")\n",
    "    except Exception as ex:\n",
    "        print('Error: ', ex)\n"
   ]
  },
  {
   "cell_type": "markdown",
   "id": "7e368506-fa9a-411d-9e18-0a02a9d85230",
   "metadata": {
    "tags": []
   },
   "source": [
    "# Cargando datos"
   ]
  },
  {
   "cell_type": "code",
   "execution_count": 24,
   "id": "2ed3223e-87f6-42e7-b19f-63cdef0b66b6",
   "metadata": {
    "tags": []
   },
   "outputs": [],
   "source": [
    "driver = f\"\"\"postgresql://{db_username}:{db_password}@{RDS_HOST_NAME}:{db_port}/{db_name}\"\"\""
   ]
  },
  {
   "cell_type": "code",
   "execution_count": 25,
   "id": "9b5975fa-ca33-4327-bac0-9de9a8951f6a",
   "metadata": {
    "tags": []
   },
   "outputs": [
    {
     "name": "stdout",
     "output_type": "stream",
     "text": [
      "Se han insertado 25 nuevos registros\n"
     ]
    }
   ],
   "source": [
    "# categorias\n",
    "insertData2SQL(generar_categorias(), 'categoria', driver)"
   ]
  },
  {
   "cell_type": "code",
   "execution_count": 26,
   "id": "ff0c10a0-5ffd-40a6-be04-66902a5ce67c",
   "metadata": {
    "tags": []
   },
   "outputs": [
    {
     "name": "stdout",
     "output_type": "stream",
     "text": [
      "Se han insertado 7 nuevos registros\n"
     ]
    }
   ],
   "source": [
    "# roles\n",
    "insertData2SQL(generar_roles(), 'rol', driver)"
   ]
  },
  {
   "cell_type": "code",
   "execution_count": 27,
   "id": "c9fd44a3-c48d-434b-8e05-f24881e87e98",
   "metadata": {
    "tags": []
   },
   "outputs": [
    {
     "name": "stdout",
     "output_type": "stream",
     "text": [
      "Se han insertado 300 nuevos registros\n"
     ]
    }
   ],
   "source": [
    "insertData2SQL([generar_persona() for i in range(300)], 'persona', driver)"
   ]
  },
  {
   "cell_type": "code",
   "execution_count": 28,
   "id": "1b6d3c8e-998e-48c0-be28-96d3e730d99c",
   "metadata": {
    "tags": []
   },
   "outputs": [],
   "source": [
    "sql_query = '''SELECT * FROM categoria;'''\n",
    "df_categoria = pd.read_sql(sql_query, driver)"
   ]
  },
  {
   "cell_type": "code",
   "execution_count": 29,
   "id": "f3c13ec0-3892-4fc0-a35c-a9234297d937",
   "metadata": {
    "tags": []
   },
   "outputs": [
    {
     "name": "stdout",
     "output_type": "stream",
     "text": [
      "Se han insertado 1000 nuevos registros\n"
     ]
    }
   ],
   "source": [
    "insertData2SQL([generar_articulo(random.sample(df_categoria.values.tolist(), 1)[0][0]) for i in range(1000)], 'articulo', driver)"
   ]
  },
  {
   "cell_type": "code",
   "execution_count": 30,
   "id": "6ebd0c6a-15d2-4164-b485-f300e4947b64",
   "metadata": {
    "tags": []
   },
   "outputs": [],
   "source": [
    "sql_query = '''SELECT * FROM rol;'''\n",
    "df_rol = pd.read_sql(sql_query, driver)"
   ]
  },
  {
   "cell_type": "code",
   "execution_count": 31,
   "id": "0092a6fd-6d4d-444b-ae01-de0fff94a0f7",
   "metadata": {
    "tags": []
   },
   "outputs": [
    {
     "name": "stdout",
     "output_type": "stream",
     "text": [
      "Se han insertado 1000 nuevos registros\n"
     ]
    }
   ],
   "source": [
    "insertData2SQL([generar_usuario(random.sample(df_rol.values.tolist(), 1)[0][0]) for i in range(1000)], 'usuario', driver)"
   ]
  },
  {
   "cell_type": "code",
   "execution_count": 32,
   "id": "d3f7a4bd-cfa9-4c60-ab77-9f94801025ec",
   "metadata": {
    "tags": []
   },
   "outputs": [
    {
     "name": "stdout",
     "output_type": "stream",
     "text": [
      "Se han insertado 1000 nuevos registros\n",
      "Se han insertado 450 nuevos registros\n"
     ]
    }
   ],
   "source": [
    "# Obtenemos articulos\n",
    "sql_query = '''SELECT idarticulo FROM articulo;''';\n",
    "df_articulos = pd.read_sql(sql_query, driver)\n",
    "\n",
    "# Obtenemos personas de tipo cliente\n",
    "sql_query = '''SELECT idpersona FROM persona WHERE tipo_persona = 'cliente';''';\n",
    "df_clientes = pd.read_sql(sql_query, driver)\n",
    "\n",
    "# Obtenemos usuarios (activos e inactivos)\n",
    "sql_query = '''SELECT idusuario FROM usuario WHERE idrol not in (5,6,7);''';\n",
    "df_usuarios = pd.read_sql(sql_query, driver)\n",
    "\n",
    "cant_ventas = 5000\n",
    "detalles_venta = []\n",
    "\n",
    "def generar_detalles_para_venta(id_venta, df_articulos):\n",
    "    num_articulos = random.randint(1, 15)\n",
    "    articulos_seleccionados = random.sample(df_articulos['idarticulo'].tolist(), num_articulos)\n",
    "    detalles_venta = [generar_detalle_venta(id_venta, id_articulo) for id_articulo in articulos_seleccionados]\n",
    "    return detalles_venta\n",
    "\n",
    "def generate_short_uuid(length = 10):\n",
    "    uuid_str = str(uuid.uuid4())\n",
    "    sha1_hash = hashlib.sha1(uuid_str.encode())\n",
    "    return sha1_hash.hexdigest()[:length]\n",
    "\n",
    "for id_venta_fake in range(cant_ventas): \n",
    "    id_venta_fake += 1\n",
    "    detalles_venta.append(generar_detalles_para_venta(id_venta_fake, df_articulos))\n",
    "    \n",
    "detalles_venta_insertar = []\n",
    "ventas = []\n",
    "    \n",
    "for detalle_venta in detalles_venta:\n",
    "    total = 0\n",
    "    for detalle in detalle_venta:\n",
    "        total += detalle['precio'] - detalle['descuento']\n",
    "    total = round(total, 2)\n",
    "    \n",
    "    # cliente y usuario aleatorio\n",
    "    idcliente = lambda: random.sample(df_clientes.values.tolist(), 1)[0][0]\n",
    "    idusuario = lambda: random.sample(df_usuarios.values.tolist(), 1)[0][0]\n",
    "    \n",
    "    # creación de objeto venta con numero de serie y correlativo con uuid\n",
    "    venta = generar_venta(detalle_venta[0]['idventa'], idcliente(), idusuario(), total, generate_short_uuid(7), generate_short_uuid(10))\n",
    "    ventas.append(venta)\n",
    "    \n",
    "    detalles_venta_insertar.extend(detalle_venta)\n",
    "\n",
    "insertData2SQL(ventas, 'venta', driver)\n",
    "insertData2SQL(detalles_venta_insertar, 'detalle_venta', driver)"
   ]
  },
  {
   "cell_type": "code",
   "execution_count": 33,
   "id": "0abe362f-f508-4e4b-bcc0-b7db9758b37f",
   "metadata": {
    "tags": []
   },
   "outputs": [
    {
     "name": "stdout",
     "output_type": "stream",
     "text": [
      "Se han insertado 1000 nuevos registros\n",
      "Se han insertado 912 nuevos registros\n"
     ]
    }
   ],
   "source": [
    "# Obtenemos articulos\n",
    "sql_query = '''SELECT idarticulo FROM articulo;''';\n",
    "df_articulos = pd.read_sql(sql_query, driver)\n",
    "\n",
    "# Obtenemos personas de tipo proveedor\n",
    "sql_query = '''SELECT idpersona FROM persona WHERE tipo_persona = 'proveedor';''';\n",
    "df_proveedores = pd.read_sql(sql_query, driver)\n",
    "\n",
    "# Obtenemos usuarios (activos e inactivos)\n",
    "sql_query = '''SELECT idusuario FROM usuario WHERE idrol not in (5,6,7);''';\n",
    "df_usuarios = pd.read_sql(sql_query, driver)\n",
    "\n",
    "cant_ingresos = 2000\n",
    "detalles_ingreso = []\n",
    "\n",
    "\n",
    "def generar_detalles_para_ingreso(id_ingreso, df_articulos):\n",
    "    num_articulos = random.randint(1, 15)\n",
    "    articulos_seleccionados = random.sample(df_articulos['idarticulo'].tolist(), num_articulos)\n",
    "    detalles_ingreso = [generar_detalle_ingreso(id_ingreso, id_articulo) for id_articulo in articulos_seleccionados]\n",
    "    return detalles_ingreso\n",
    "\n",
    "def generate_short_uuid(length = 10):\n",
    "    uuid_str = str(uuid.uuid4())\n",
    "    sha1_hash = hashlib.sha1(uuid_str.encode())\n",
    "    return sha1_hash.hexdigest()[:length]\n",
    "\n",
    "for id_ingreso_fake in range(cant_ingresos): \n",
    "    id_ingreso_fake += 1\n",
    "    detalles_ingreso.append(generar_detalles_para_ingreso(id_ingreso_fake, df_articulos))\n",
    "    \n",
    "detalles_ingreso_insertar = []\n",
    "ingresos = []\n",
    "\n",
    "for detalle_ingreso in detalles_ingreso:\n",
    "    total = 0\n",
    "    for ingreso in detalle_ingreso:\n",
    "        total += ingreso['precio']\n",
    "    total = round(total, 2)\n",
    "    \n",
    "    # proveedor y usuario aleatorio\n",
    "    idproveedor = lambda: random.sample(df_proveedores.values.tolist(), 1)[0][0]\n",
    "    idusuario = lambda: random.sample(df_usuarios.values.tolist(), 1)[0][0]\n",
    "    \n",
    "    \n",
    "    ingreso = generar_ingreso(detalle_ingreso[0]['idingreso'], idproveedor(), idusuario(), total, generate_short_uuid(7), generate_short_uuid(10))\n",
    "    ingresos.append(ingreso)\n",
    "    \n",
    "    detalles_ingreso_insertar.extend(detalle_ingreso)\n",
    "\n",
    "insertData2SQL(ingresos, 'ingreso', driver)\n",
    "insertData2SQL(detalles_ingreso_insertar, 'detalle_ingreso', driver)"
   ]
  },
  {
   "cell_type": "code",
   "execution_count": null,
   "id": "9c1f84d4-9aa7-45bf-9deb-1810b2eb3249",
   "metadata": {},
   "outputs": [],
   "source": []
  }
 ],
 "metadata": {
  "kernelspec": {
   "display_name": "Python 3 (ipykernel)",
   "language": "python",
   "name": "python3"
  },
  "language_info": {
   "codemirror_mode": {
    "name": "ipython",
    "version": 3
   },
   "file_extension": ".py",
   "mimetype": "text/x-python",
   "name": "python",
   "nbconvert_exporter": "python",
   "pygments_lexer": "ipython3",
   "version": "3.11.5"
  }
 },
 "nbformat": 4,
 "nbformat_minor": 5
}
