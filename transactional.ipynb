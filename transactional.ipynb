{
 "cells": [
  {
   "cell_type": "code",
   "execution_count": 11,
   "id": "929adb60-44e5-49db-a36e-cf52955d1e14",
   "metadata": {
    "tags": []
   },
   "outputs": [],
   "source": [
    "import boto3\n",
    "import pandas as pd\n",
    "import numpy as np\n",
    "import configparser\n",
    "import psycopg2"
   ]
  },
  {
   "cell_type": "markdown",
   "id": "2596259c-e695-4a9e-bd6e-3778fb21070f",
   "metadata": {},
   "source": [
    "# Config setup"
   ]
  },
  {
   "cell_type": "code",
   "execution_count": 7,
   "id": "2fdf7538-6bb1-4b33-9c07-22dfe6703e8e",
   "metadata": {
    "tags": []
   },
   "outputs": [
    {
     "data": {
      "text/plain": [
       "['config.cfg']"
      ]
     },
     "execution_count": 7,
     "metadata": {},
     "output_type": "execute_result"
    }
   ],
   "source": [
    "config = configparser.ConfigParser()\n",
    "config.read('config.cfg')"
   ]
  },
  {
   "cell_type": "markdown",
   "id": "877cac2f-420d-4f05-a5fd-ade59842823b",
   "metadata": {},
   "source": [
    "# AWS client connection"
   ]
  },
  {
   "cell_type": "code",
   "execution_count": 8,
   "id": "7d206611-99eb-41f7-9cec-a540c5c16705",
   "metadata": {
    "tags": []
   },
   "outputs": [],
   "source": [
    "access_key = config.get('IAM', 'ACCESS_KEY')\n",
    "secret_key = config.get('IAM', 'SECRET_KEY')\n",
    "region = config.get('REGION', 'REGION_NAME')\n",
    "\n",
    "aws_rds_conn = boto3.client('rds', \n",
    "                            aws_access_key_id=access_key, \n",
    "                            aws_secret_access_key=secret_key, \n",
    "                            region_name=region)"
   ]
  },
  {
   "cell_type": "markdown",
   "id": "78ffa035-63dd-4e23-89dc-7b8c51e7b1ee",
   "metadata": {},
   "source": [
    "# AWS RDS creation"
   ]
  },
  {
   "cell_type": "code",
   "execution_count": 9,
   "id": "c6d749f0-5291-4b06-ba5d-c17f781f381b",
   "metadata": {
    "tags": []
   },
   "outputs": [
    {
     "name": "stdout",
     "output_type": "stream",
     "text": [
      "{'DBInstance': {'DBInstanceIdentifier': 'shop', 'DBInstanceClass': 'db.t3.micro', 'Engine': 'postgres', 'DBInstanceStatus': 'creating', 'MasterUsername': 'admin_postgress', 'DBName': 'shop', 'AllocatedStorage': 20, 'PreferredBackupWindow': '06:19-06:49', 'BackupRetentionPeriod': 1, 'DBSecurityGroups': [], 'VpcSecurityGroups': [{'VpcSecurityGroupId': 'sg-475da528', 'Status': 'active'}], 'DBParameterGroups': [{'DBParameterGroupName': 'default.postgres16', 'ParameterApplyStatus': 'in-sync'}], 'DBSubnetGroup': {'DBSubnetGroupName': 'default', 'DBSubnetGroupDescription': 'default', 'VpcId': 'vpc-a0b0bdc8', 'SubnetGroupStatus': 'Complete', 'Subnets': [{'SubnetIdentifier': 'subnet-cb70ba87', 'SubnetAvailabilityZone': {'Name': 'us-east-2c'}, 'SubnetOutpost': {}, 'SubnetStatus': 'Active'}, {'SubnetIdentifier': 'subnet-436b0939', 'SubnetAvailabilityZone': {'Name': 'us-east-2b'}, 'SubnetOutpost': {}, 'SubnetStatus': 'Active'}, {'SubnetIdentifier': 'subnet-7e4c7816', 'SubnetAvailabilityZone': {'Name': 'us-east-2a'}, 'SubnetOutpost': {}, 'SubnetStatus': 'Active'}]}, 'PreferredMaintenanceWindow': 'mon:07:50-mon:08:20', 'PendingModifiedValues': {'MasterUserPassword': '****'}, 'MultiAZ': False, 'EngineVersion': '16.1', 'AutoMinorVersionUpgrade': True, 'ReadReplicaDBInstanceIdentifiers': [], 'LicenseModel': 'postgresql-license', 'OptionGroupMemberships': [{'OptionGroupName': 'default:postgres-16', 'Status': 'in-sync'}], 'PubliclyAccessible': True, 'StorageType': 'gp2', 'DbInstancePort': 0, 'StorageEncrypted': False, 'DbiResourceId': 'db-BPN4RAZ5GLUGOJKTYXIUJJW3II', 'CACertificateIdentifier': 'rds-ca-rsa2048-g1', 'DomainMemberships': [], 'CopyTagsToSnapshot': False, 'MonitoringInterval': 0, 'DBInstanceArn': 'arn:aws:rds:us-east-2:272401166215:db:shop', 'IAMDatabaseAuthenticationEnabled': False, 'PerformanceInsightsEnabled': False, 'DeletionProtection': False, 'AssociatedRoles': [], 'TagList': [], 'CustomerOwnedIpEnabled': False, 'BackupTarget': 'region', 'NetworkType': 'IPV4', 'StorageThroughput': 0, 'CertificateDetails': {'CAIdentifier': 'rds-ca-rsa2048-g1'}}, 'ResponseMetadata': {'RequestId': 'a5683755-4641-4ee1-8cff-5e439e2d2cef', 'HTTPStatusCode': 200, 'HTTPHeaders': {'x-amzn-requestid': 'a5683755-4641-4ee1-8cff-5e439e2d2cef', 'strict-transport-security': 'max-age=31536000', 'content-type': 'text/xml', 'content-length': '3387', 'date': 'Tue, 09 Apr 2024 00:22:44 GMT'}, 'RetryAttempts': 0}}\n"
     ]
    }
   ],
   "source": [
    "db_instance_id = config.get('DB', 'DB_INSTANCE_ID')\n",
    "db_name = config.get('DB', 'DB_NAME')\n",
    "db_username = config.get('DB', 'DB_USERNAME')\n",
    "db_password = config.get('DB', 'DB_PASSWORD')\n",
    "db_port = config.get('DB', 'DB_PORT')\n",
    "\n",
    "vpc_security_group = config.get('VPC', 'SECURITY_GROUP')\n",
    "\n",
    "try:\n",
    "    response = aws_rds_conn.create_db_instance(\n",
    "        DBInstanceIdentifier=db_instance_id,\n",
    "        DBName=db_name,\n",
    "        MasterUsername=db_username,\n",
    "        MasterUserPassword=db_password,\n",
    "        Port=int(db_port),\n",
    "        DBInstanceClass='db.t3.micro',\n",
    "        Engine='postgres',\n",
    "        PubliclyAccessible=True,\n",
    "        AllocatedStorage=20,\n",
    "        VpcSecurityGroupIds=[vpc_security_group]\n",
    "    )\n",
    "    print(response)\n",
    "except aws_rds_conn.exceptions.DBInstanceAlreadyExistsFault:\n",
    "    print('La instancia ya existe')\n",
    "except Exception as ex:\n",
    "    print(f\"Error: ${ex}\")"
   ]
  },
  {
   "cell_type": "markdown",
   "id": "07188c09-57f1-414b-82d6-4073c6ec019a",
   "metadata": {},
   "source": [
    "# RDS host name"
   ]
  },
  {
   "cell_type": "code",
   "execution_count": 12,
   "id": "cecbc619-5d66-46a0-8d79-a9850b9316ce",
   "metadata": {
    "tags": []
   },
   "outputs": [
    {
     "name": "stdout",
     "output_type": "stream",
     "text": [
      "shop.cnkf6pwg5si3.us-east-2.rds.amazonaws.com\n"
     ]
    }
   ],
   "source": [
    "try:\n",
    "    instance = aws_rds_conn.describe_db_instances(DBInstanceIdentifier=db_instance_id)\n",
    "    RDS_HOST_NAME = instance.get('DBInstances')[0].get('Endpoint').get('Address')\n",
    "    print(RDS_HOST_NAME)\n",
    "except Exception as ex:\n",
    "    print('Error: ', ex)"
   ]
  },
  {
   "cell_type": "markdown",
   "id": "ab204991-65c5-4eba-9d05-73331acff2bd",
   "metadata": {},
   "source": [
    "# Creation of transactional system"
   ]
  },
  {
   "cell_type": "code",
   "execution_count": 17,
   "id": "f516742b-54e5-4861-b38e-b4d4910e06a1",
   "metadata": {
    "tags": []
   },
   "outputs": [],
   "source": [
    "import create_transactional\n",
    "\n",
    "try:\n",
    "    db_pg_conn = psycopg2.connect(\n",
    "        database=db_name,\n",
    "        user=db_username,\n",
    "        password=db_password,\n",
    "        port=db_port,\n",
    "        host=RDS_HOST_NAME\n",
    "    )\n",
    "    cursor = db_pg_conn.cursor()\n",
    "    cursor.execute(create_transactional.DDL_QUERY)\n",
    "    db_pg_conn.commit()\n",
    "except Exception as ex:\n",
    "    print('Error: ', ex)"
   ]
  },
  {
   "cell_type": "markdown",
   "id": "e157bc62-309d-41c9-8994-a507cb7f975b",
   "metadata": {},
   "source": [
    "# Faker helper functions"
   ]
  },
  {
   "cell_type": "code",
   "execution_count": 41,
   "id": "9dd45644-af82-49de-b3bf-3f1b9a34c069",
   "metadata": {
    "tags": []
   },
   "outputs": [],
   "source": [
    "from faker import Faker\n",
    "import random\n",
    "\n",
    "fake = Faker()\n",
    "\n",
    "# Generar datos para \"categoria\"\n",
    "categorias_con_descripciones = {\n",
    "    'Electrónica': 'Dispositivos y gadgets tecnológicos de última generación.',\n",
    "    'Ropa Hombres': 'Moda y accesorios para el vestuario masculino.',\n",
    "    'Ropa Mujeres': 'Colecciones y tendencias de moda femenina.',\n",
    "    'Juguetes': 'Juguetes educativos y de entretenimiento para niños de todas las edades.',\n",
    "    'Alimentos': 'Productos alimenticios frescos y procesados para tu despensa.',\n",
    "    'Bebidas': 'Variedad de bebidas refrescantes, alcohólicas y no alcohólicas.',\n",
    "    'Libros': 'Literatura, ficción, educativos y más géneros para todos los lectores.',\n",
    "    'Artículos de Oficina': 'Suministros y mobiliario para mejorar tu espacio de trabajo.',\n",
    "    'Deportes': 'Equipamiento y ropa deportiva para todas tus actividades físicas.',\n",
    "    'Zapatos': 'Calzado cómodo y estilizado para hombres, mujeres y niños.',\n",
    "    'Accesorios': 'Complementos perfectos para realzar cualquier atuendo.',\n",
    "    'Belleza y Cuidado Personal': 'Productos para cuidado de la piel, cabello y belleza general.',\n",
    "    'Hogar y Cocina': 'Artículos para equipar y decorar tu hogar y cocina.',\n",
    "    'Jardinería': 'Herramientas y decoraciones para mantener tu jardín hermoso.',\n",
    "    'Mascotas': 'Alimentos, juguetes y accesorios para el bienestar de tus mascotas.',\n",
    "    'Automóviles': 'Accesorios, herramientas y tecnología para tu coche.',\n",
    "    'Música': 'Instrumentos musicales y accesorios para aficionados y profesionales.',\n",
    "    'Videojuegos': 'Consolas, videojuegos y accesorios para gamers.',\n",
    "    'Fotografía': 'Cámaras, lentes y accesorios para fotógrafos.',\n",
    "    'Celulares y Accesorios': 'Los últimos smartphones y complementos para estar siempre conectado.',\n",
    "    'Computación': 'Hardware, software y periféricos para tus necesidades informáticas.',\n",
    "    'Audio y Video': 'Equipos de sonido y video para una experiencia multimedia completa.',\n",
    "    'Salud y Bienestar': 'Productos para mantener un estilo de vida saludable y activo.',\n",
    "    'Joyería': 'Joyas finas y relojería para ocasiones especiales.',\n",
    "    'Relojes': 'Una amplia selección de relojes para cada estilo y ocasión.'\n",
    "}\n",
    "\n",
    "def generar_categorias():\n",
    "    return [\n",
    "        {\n",
    "            'nombre': nombre, \n",
    "            'descripcion': descripcion,\n",
    "            'estado': True\n",
    "        } for nombre, descripcion in categorias_con_descripciones.items()\n",
    "    ]\n",
    "\n",
    "# Generar datos para \"rol\"\n",
    "roles_tiendas = [\n",
    "    ('Administrador', 'Responsable de gestionar la tienda, incluidos productos, personal y finanzas'),\n",
    "    ('Vendedor', 'Encargado de las ventas y la atención al cliente en el piso de ventas'),\n",
    "    ('Cajero', 'Gestiona las transacciones de pago y emite recibos a los clientes'),\n",
    "    ('Gerente de Producto', 'Supervisa la selección, precios y promoción de los productos'),\n",
    "    ('Soporte Técnico', 'Proporciona asistencia técnica para productos electrónicos y software'),\n",
    "    ('Gerente de Marketing', 'Desarrolla estrategias de marketing y publicidad para la tienda'),\n",
    "    ('Gerente de RR.HH.', 'Administra la contratación, formación y políticas de recursos humanos'),\n",
    "]\n",
    "def generar_roles():\n",
    "    return [\n",
    "        {\n",
    "            'nombre': rol[0], \n",
    "            'descripcion': rol[1],\n",
    "            'estado': True\n",
    "        } for rol in roles_tiendas\n",
    "    ]\n",
    "\n",
    "\n",
    "# Generar datos para \"articulo\"\n",
    "def generar_articulo(idcategoria):\n",
    "    return {\n",
    "        'idcategoria': idcategoria,\n",
    "        'codigo': fake.bothify(text='???-###'),\n",
    "        'nombre': fake.word(),\n",
    "        'precio_venta': round(random.uniform(10, 1000), 2),\n",
    "        'stock': fake.random_int(min=0, max=100),\n",
    "        'descripcion': fake.text(max_nb_chars=50),\n",
    "        'imagen': fake.file_name(category='image'),\n",
    "        'estado': fake.boolean()\n",
    "    }\n",
    "\n",
    "# Generar datos para \"persona\"\n",
    "def generar_persona():\n",
    "    tipo_persona = random.choice(['cliente', 'proveedor'])\n",
    "    tipo_documento = random.choice(['DNI', 'CE', 'PAS'])\n",
    "    return {\n",
    "        'tipo_persona': tipo_persona,\n",
    "        'nombre': fake.name(),\n",
    "        'tipo_documento': tipo_documento,\n",
    "        'num_documento': fake.bothify(text='########'),\n",
    "        'direccion': fake.address(),\n",
    "        'telefono': fake.phone_number(),\n",
    "        'email': fake.email()\n",
    "    }\n",
    "\n",
    "\n",
    "# Generar datos para \"usuario\"\n",
    "def generar_usuario(idrol):\n",
    "    tipo_documento = random.choice(['DNI', 'CE', 'PAS'])\n",
    "    return {\n",
    "        'idrol': idrol,\n",
    "        'nombre': fake.name(),\n",
    "        'tipo_documento': tipo_documento,\n",
    "        'num_documento': fake.bothify(text='########'),\n",
    "        'direccion': fake.address(),\n",
    "        'telefono': fake.phone_number(),\n",
    "        'email': fake.email(),\n",
    "        'clave': fake.binary(length=16),\n",
    "        'estado': fake.boolean()\n",
    "    }\n",
    "\n",
    "# Generar datos para \"venta\"\n",
    "def generar_venta(idcliente, idusuario):\n",
    "    tipo_comprobante = random.choice(['Factura', 'Boleta'])\n",
    "    return {\n",
    "        'idcliente': idcliente,\n",
    "        'idusuario': idusuario,\n",
    "        'tipo_comprobante': tipo_comprobante,\n",
    "        'serie_comprobante': fake.bothify(text='???'),\n",
    "        'num_comprobante': fake.bothify(text='#######'),\n",
    "        'fecha': fake.date_time_this_year(),\n",
    "        'impuesto': round(random.uniform(0, 30), 2),\n",
    "        'total': round(random.uniform(100, 1000), 2),\n",
    "        'estado': random.choice(['Pagado', 'Pendiente', 'Anulado'])\n",
    "    }\n",
    "\n",
    "# Generar datos para \"detalle_venta\"\n",
    "def generar_detalle_venta(idventa, idarticulo):\n",
    "    return {\n",
    "        'idventa': idventa,\n",
    "        'idarticulo': idarticulo,\n",
    "        'cantidad': fake.random_int(min=1, max=10),\n",
    "        'precio': round(random.uniform(10, 100), 2),\n",
    "        'descuento': round(random.uniform(0, 10), 2)\n",
    "    }\n",
    "\n",
    "# Generar datos para \"ingreso\"\n",
    "def generar_ingreso(idproveedor, idusuario):\n",
    "    tipo_comprobante = random.choice(['Factura', 'Boleta', 'Ticket'])\n",
    "    return {\n",
    "        'idproveedor': idproveedor,\n",
    "        'idusuario': idusuario,\n",
    "        'tipo_comprobante': tipo_comprobante,\n",
    "        'serie_comprobante': fake.bothify(text='???'),\n",
    "        'num_comprobante': fake.bothify(text='#######'),\n",
    "        'fecha': fake.date_time_this_year(),\n",
    "        'impuesto': round(random.uniform(0, 30), 2),\n",
    "        'total': round(random.uniform(100, 1000), 2),\n",
    "        'estado': random.choice(['Recibido', 'Pendiente', 'Anulado'])\n",
    "    }\n",
    "\n",
    "# Generar datos para \"detalle_ingreso\"\n",
    "def generar_detalle_ingreso(idingreso, idarticulo):\n",
    "    return {\n",
    "        'idingreso': idingreso,\n",
    "        'idarticulo': idarticulo,\n",
    "        'cantidad': fake.random_int(min=1, max=100),\n",
    "        'precio': round(random.uniform(10, 100), 2)\n",
    "    }\n",
    "\n",
    "# Insertar datos\n",
    "def insertData2SQL(data_dict, table_name, driver):\n",
    "    df_data = pd.DataFrame.from_records(data_dict)\n",
    "    try:\n",
    "        response = df_data.to_sql(table_name, driver, index=False, if_exists='append')\n",
    "        print(f\"Se han insertado {response} nuevos registros\")\n",
    "    except Exception as ex:\n",
    "        print('Error: ', ex)\n"
   ]
  },
  {
   "cell_type": "markdown",
   "id": "7e368506-fa9a-411d-9e18-0a02a9d85230",
   "metadata": {
    "tags": []
   },
   "source": [
    "# Cargando datos"
   ]
  },
  {
   "cell_type": "code",
   "execution_count": 42,
   "id": "2ed3223e-87f6-42e7-b19f-63cdef0b66b6",
   "metadata": {
    "tags": []
   },
   "outputs": [],
   "source": [
    "driver = f\"\"\"postgresql://{db_username}:{db_password}@{RDS_HOST_NAME}:{db_port}/{db_name}\"\"\""
   ]
  },
  {
   "cell_type": "code",
   "execution_count": 43,
   "id": "9b5975fa-ca33-4327-bac0-9de9a8951f6a",
   "metadata": {
    "tags": []
   },
   "outputs": [
    {
     "name": "stdout",
     "output_type": "stream",
     "text": [
      "Se han insertado 25 nuevos registros\n"
     ]
    }
   ],
   "source": [
    "# categorias\n",
    "insertData2SQL(generar_categorias(), 'categoria', driver)"
   ]
  },
  {
   "cell_type": "code",
   "execution_count": 44,
   "id": "ff0c10a0-5ffd-40a6-be04-66902a5ce67c",
   "metadata": {
    "tags": []
   },
   "outputs": [
    {
     "name": "stdout",
     "output_type": "stream",
     "text": [
      "Se han insertado 7 nuevos registros\n"
     ]
    }
   ],
   "source": [
    "# roles\n",
    "insertData2SQL(generar_roles(), 'rol', driver)"
   ]
  }
 ],
 "metadata": {
  "kernelspec": {
   "display_name": "Python 3 (ipykernel)",
   "language": "python",
   "name": "python3"
  },
  "language_info": {
   "codemirror_mode": {
    "name": "ipython",
    "version": 3
   },
   "file_extension": ".py",
   "mimetype": "text/x-python",
   "name": "python",
   "nbconvert_exporter": "python",
   "pygments_lexer": "ipython3",
   "version": "3.11.5"
  }
 },
 "nbformat": 4,
 "nbformat_minor": 5
}
