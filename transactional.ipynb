{
 "cells": [
  {
   "cell_type": "code",
   "execution_count": 11,
   "id": "929adb60-44e5-49db-a36e-cf52955d1e14",
   "metadata": {
    "tags": []
   },
   "outputs": [],
   "source": [
    "import boto3\n",
    "import pandas as pd\n",
    "import numpy as np\n",
    "import configparser\n",
    "import psycopg2"
   ]
  },
  {
   "cell_type": "code",
   "execution_count": 7,
   "id": "2fdf7538-6bb1-4b33-9c07-22dfe6703e8e",
   "metadata": {
    "tags": []
   },
   "outputs": [
    {
     "data": {
      "text/plain": [
       "['config.cfg']"
      ]
     },
     "execution_count": 7,
     "metadata": {},
     "output_type": "execute_result"
    }
   ],
   "source": [
    "config = configparser.ConfigParser()\n",
    "config.read('config.cfg')"
   ]
  },
  {
   "cell_type": "code",
   "execution_count": 8,
   "id": "7d206611-99eb-41f7-9cec-a540c5c16705",
   "metadata": {
    "tags": []
   },
   "outputs": [],
   "source": [
    "access_key = config.get('IAM', 'ACCESS_KEY')\n",
    "secret_key = config.get('IAM', 'SECRET_KEY')\n",
    "region = config.get('REGION', 'REGION_NAME')\n",
    "\n",
    "aws_rds_conn = boto3.client('rds', \n",
    "                            aws_access_key_id=access_key, \n",
    "                            aws_secret_access_key=secret_key, \n",
    "                            region_name=region)"
   ]
  },
  {
   "cell_type": "code",
   "execution_count": 9,
   "id": "c6d749f0-5291-4b06-ba5d-c17f781f381b",
   "metadata": {
    "tags": []
   },
   "outputs": [
    {
     "name": "stdout",
     "output_type": "stream",
     "text": [
      "{'DBInstance': {'DBInstanceIdentifier': 'shop', 'DBInstanceClass': 'db.t3.micro', 'Engine': 'postgres', 'DBInstanceStatus': 'creating', 'MasterUsername': 'admin_postgress', 'DBName': 'shop', 'AllocatedStorage': 20, 'PreferredBackupWindow': '06:19-06:49', 'BackupRetentionPeriod': 1, 'DBSecurityGroups': [], 'VpcSecurityGroups': [{'VpcSecurityGroupId': 'sg-475da528', 'Status': 'active'}], 'DBParameterGroups': [{'DBParameterGroupName': 'default.postgres16', 'ParameterApplyStatus': 'in-sync'}], 'DBSubnetGroup': {'DBSubnetGroupName': 'default', 'DBSubnetGroupDescription': 'default', 'VpcId': 'vpc-a0b0bdc8', 'SubnetGroupStatus': 'Complete', 'Subnets': [{'SubnetIdentifier': 'subnet-cb70ba87', 'SubnetAvailabilityZone': {'Name': 'us-east-2c'}, 'SubnetOutpost': {}, 'SubnetStatus': 'Active'}, {'SubnetIdentifier': 'subnet-436b0939', 'SubnetAvailabilityZone': {'Name': 'us-east-2b'}, 'SubnetOutpost': {}, 'SubnetStatus': 'Active'}, {'SubnetIdentifier': 'subnet-7e4c7816', 'SubnetAvailabilityZone': {'Name': 'us-east-2a'}, 'SubnetOutpost': {}, 'SubnetStatus': 'Active'}]}, 'PreferredMaintenanceWindow': 'mon:07:50-mon:08:20', 'PendingModifiedValues': {'MasterUserPassword': '****'}, 'MultiAZ': False, 'EngineVersion': '16.1', 'AutoMinorVersionUpgrade': True, 'ReadReplicaDBInstanceIdentifiers': [], 'LicenseModel': 'postgresql-license', 'OptionGroupMemberships': [{'OptionGroupName': 'default:postgres-16', 'Status': 'in-sync'}], 'PubliclyAccessible': True, 'StorageType': 'gp2', 'DbInstancePort': 0, 'StorageEncrypted': False, 'DbiResourceId': 'db-BPN4RAZ5GLUGOJKTYXIUJJW3II', 'CACertificateIdentifier': 'rds-ca-rsa2048-g1', 'DomainMemberships': [], 'CopyTagsToSnapshot': False, 'MonitoringInterval': 0, 'DBInstanceArn': 'arn:aws:rds:us-east-2:272401166215:db:shop', 'IAMDatabaseAuthenticationEnabled': False, 'PerformanceInsightsEnabled': False, 'DeletionProtection': False, 'AssociatedRoles': [], 'TagList': [], 'CustomerOwnedIpEnabled': False, 'BackupTarget': 'region', 'NetworkType': 'IPV4', 'StorageThroughput': 0, 'CertificateDetails': {'CAIdentifier': 'rds-ca-rsa2048-g1'}}, 'ResponseMetadata': {'RequestId': 'a5683755-4641-4ee1-8cff-5e439e2d2cef', 'HTTPStatusCode': 200, 'HTTPHeaders': {'x-amzn-requestid': 'a5683755-4641-4ee1-8cff-5e439e2d2cef', 'strict-transport-security': 'max-age=31536000', 'content-type': 'text/xml', 'content-length': '3387', 'date': 'Tue, 09 Apr 2024 00:22:44 GMT'}, 'RetryAttempts': 0}}\n"
     ]
    }
   ],
   "source": [
    "db_instance_id = config.get('DB', 'DB_INSTANCE_ID')\n",
    "db_name = config.get('DB', 'DB_NAME')\n",
    "db_username = config.get('DB', 'DB_USERNAME')\n",
    "db_password = config.get('DB', 'DB_PASSWORD')\n",
    "db_port = config.get('DB', 'DB_PORT')\n",
    "\n",
    "vpc_security_group = config.get('VPC', 'SECURITY_GROUP')\n",
    "\n",
    "try:\n",
    "    response = aws_rds_conn.create_db_instance(\n",
    "        DBInstanceIdentifier=db_instance_id,\n",
    "        DBName=db_name,\n",
    "        MasterUsername=db_username,\n",
    "        MasterUserPassword=db_password,\n",
    "        Port=int(db_port),\n",
    "        DBInstanceClass='db.t3.micro',\n",
    "        Engine='postgres',\n",
    "        PubliclyAccessible=True,\n",
    "        AllocatedStorage=20,\n",
    "        VpcSecurityGroupIds=[vpc_security_group]\n",
    "    )\n",
    "    print(response)\n",
    "except aws_rds_conn.exceptions.DBInstanceAlreadyExistsFault:\n",
    "    print('La instancia ya existe')\n",
    "except Exception as ex:\n",
    "    print(f\"Error: ${ex}\")"
   ]
  },
  {
   "cell_type": "code",
   "execution_count": 12,
   "id": "cecbc619-5d66-46a0-8d79-a9850b9316ce",
   "metadata": {
    "tags": []
   },
   "outputs": [
    {
     "name": "stdout",
     "output_type": "stream",
     "text": [
      "shop.cnkf6pwg5si3.us-east-2.rds.amazonaws.com\n"
     ]
    }
   ],
   "source": [
    "try:\n",
    "    instance = aws_rds_conn.describe_db_instances(DBInstanceIdentifier=db_instance_id)\n",
    "    RDS_HOST_NAME = instance.get('DBInstances')[0].get('Endpoint').get('Address')\n",
    "    print(RDS_HOST_NAME)\n",
    "except Exception as ex:\n",
    "    print('Error: ', ex)"
   ]
  },
  {
   "cell_type": "code",
   "execution_count": 15,
   "id": "f516742b-54e5-4861-b38e-b4d4910e06a1",
   "metadata": {
    "tags": []
   },
   "outputs": [
    {
     "ename": "ModuleNotFoundError",
     "evalue": "No module named 'create_transactional'",
     "output_type": "error",
     "traceback": [
      "\u001b[0;31m---------------------------------------------------------------------------\u001b[0m",
      "\u001b[0;31mModuleNotFoundError\u001b[0m                       Traceback (most recent call last)",
      "Cell \u001b[0;32mIn[15], line 1\u001b[0m\n\u001b[0;32m----> 1\u001b[0m \u001b[38;5;28;01mimport\u001b[39;00m \u001b[38;5;21;01mcreate_transactional\u001b[39;00m\n",
      "\u001b[0;31mModuleNotFoundError\u001b[0m: No module named 'create_transactional'"
     ]
    }
   ],
   "source": [
    "import create_transactional"
   ]
  }
 ],
 "metadata": {
  "kernelspec": {
   "display_name": "Python 3 (ipykernel)",
   "language": "python",
   "name": "python3"
  },
  "language_info": {
   "codemirror_mode": {
    "name": "ipython",
    "version": 3
   },
   "file_extension": ".py",
   "mimetype": "text/x-python",
   "name": "python",
   "nbconvert_exporter": "python",
   "pygments_lexer": "ipython3",
   "version": "3.11.5"
  }
 },
 "nbformat": 4,
 "nbformat_minor": 5
}
