{
 "cells": [
  {
   "cell_type": "code",
   "execution_count": 33,
   "id": "56d4a45c-9b81-4b9d-bcb4-34ac721e495b",
   "metadata": {
    "tags": []
   },
   "outputs": [],
   "source": [
    "import boto3\n",
    "import pandas as pd\n",
    "import numpy as np\n",
    "import configparser\n",
    "import psycopg2\n",
    "import hashlib\n",
    "import uuid\n",
    "from faker import Faker\n",
    "import random"
   ]
  },
  {
   "cell_type": "markdown",
   "id": "565b550a-1d2a-4774-a392-36b7624e5132",
   "metadata": {},
   "source": [
    "# Config setup"
   ]
  },
  {
   "cell_type": "code",
   "execution_count": 31,
   "id": "86efc211-3423-4016-aea3-54829971189b",
   "metadata": {
    "tags": []
   },
   "outputs": [
    {
     "data": {
      "text/plain": [
       "['etl_config.cfg']"
      ]
     },
     "execution_count": 31,
     "metadata": {},
     "output_type": "execute_result"
    }
   ],
   "source": [
    "etl_config = configparser.ConfigParser()\n",
    "etl_config.read('etl_config.cfg')"
   ]
  },
  {
   "cell_type": "code",
   "execution_count": 32,
   "id": "1dc97a95-9514-4566-9a44-67a0d423b415",
   "metadata": {
    "tags": []
   },
   "outputs": [
    {
     "data": {
      "text/plain": [
       "['transactional_config.cfg']"
      ]
     },
     "execution_count": 32,
     "metadata": {},
     "output_type": "execute_result"
    }
   ],
   "source": [
    "tran_config = configparser.ConfigParser()\n",
    "tran_config.read('transactional_config.cfg')"
   ]
  },
  {
   "cell_type": "markdown",
   "id": "c530ac0d-34c5-48ae-84ff-ed1dedb10e85",
   "metadata": {},
   "source": [
    "# AWS client connection"
   ]
  },
  {
   "cell_type": "code",
   "execution_count": 34,
   "id": "2fd0d83b-501f-446a-b31f-e2f8124c27cd",
   "metadata": {
    "tags": []
   },
   "outputs": [],
   "source": [
    "access_key = etl_config.get('IAM', 'ACCESS_KEY')\n",
    "secret_key = etl_config.get('IAM', 'SECRET_KEY')\n",
    "region = etl_config.get('REGION', 'REGION_NAME')\n",
    "\n",
    "aws_rds_conn = boto3.client('rds', \n",
    "                            aws_access_key_id=access_key, \n",
    "                            aws_secret_access_key=secret_key, \n",
    "                            region_name=region)"
   ]
  },
  {
   "cell_type": "markdown",
   "id": "0358d79b-0a5d-4a8f-a09f-3e7b6930e76c",
   "metadata": {},
   "source": [
    "# AWS RDS creation"
   ]
  },
  {
   "cell_type": "code",
   "execution_count": 35,
   "id": "34f1490a-dd06-4812-a7ca-37fe35df50bd",
   "metadata": {
    "tags": []
   },
   "outputs": [],
   "source": [
    "etl_db_instance_id = etl_config.get('DB', 'DB_INSTANCE_ID')\n",
    "etl_db_name = etl_config.get('DB', 'DB_NAME')\n",
    "etl_db_username = etl_config.get('DB', 'DB_USERNAME')\n",
    "etl_db_password = etl_config.get('DB', 'DB_PASSWORD')\n",
    "etl_db_port = etl_config.get('DB', 'DB_PORT')\n",
    "etl_vpc_security_group = etl_config.get('VPC', 'SECURITY_GROUP')"
   ]
  },
  {
   "cell_type": "code",
   "execution_count": 36,
   "id": "717dcb98-b7de-454b-9fdf-585867327781",
   "metadata": {
    "tags": []
   },
   "outputs": [],
   "source": [
    "tran_db_instance_id = tran_config.get('DB', 'DB_INSTANCE_ID')\n",
    "tran_db_name = tran_config.get('DB', 'DB_NAME')\n",
    "tran_db_username = tran_config.get('DB', 'DB_USERNAME')\n",
    "tran_db_password = tran_config.get('DB', 'DB_PASSWORD')\n",
    "tran_db_port = tran_config.get('DB', 'DB_PORT')\n",
    "tran_vpc_security_group = tran_config.get('VPC', 'SECURITY_GROUP')"
   ]
  },
  {
   "cell_type": "code",
   "execution_count": 37,
   "id": "5b3d2d98-aac2-4c3a-ba9f-36c5f5c83e70",
   "metadata": {
    "tags": []
   },
   "outputs": [
    {
     "name": "stdout",
     "output_type": "stream",
     "text": [
      "La instancia ya existe\n"
     ]
    }
   ],
   "source": [
    "try:\n",
    "    response = aws_rds_conn.create_db_instance(\n",
    "        DBInstanceIdentifier=etl_db_instance_id,\n",
    "        DBName=etl_db_name,\n",
    "        MasterUsername=etl_db_username,\n",
    "        MasterUserPassword=etl_db_password,\n",
    "        Port=int(etl_db_port),\n",
    "        DBInstanceClass='db.t3.micro',\n",
    "        Engine='mysql',\n",
    "        PubliclyAccessible=True,\n",
    "        AllocatedStorage=20,\n",
    "        VpcSecurityGroupIds=[etl_vpc_security_group]\n",
    "    )\n",
    "    print(response)\n",
    "except aws_rds_conn.exceptions.DBInstanceAlreadyExistsFault:\n",
    "    print('La instancia ya existe')\n",
    "except Exception as ex:\n",
    "    print(f\"Error: ${ex}\")"
   ]
  },
  {
   "cell_type": "markdown",
   "id": "0aec7d63-7855-4a02-ae15-c196704e533d",
   "metadata": {},
   "source": [
    "# RDS host name"
   ]
  },
  {
   "cell_type": "code",
   "execution_count": 42,
   "id": "bcb5dbec-b87d-45de-978d-f18cf9e7122a",
   "metadata": {
    "tags": []
   },
   "outputs": [
    {
     "name": "stdout",
     "output_type": "stream",
     "text": [
      "dwshop.cnkf6pwg5si3.us-east-2.rds.amazonaws.com\n"
     ]
    }
   ],
   "source": [
    "try:\n",
    "    etl_instance = aws_rds_conn.describe_db_instances(DBInstanceIdentifier=etl_db_instance_id)\n",
    "    ETL_RDS_HOST_NAME = instance.get('DBInstances')[0].get('Endpoint').get('Address')\n",
    "    print(ETL_RDS_HOST_NAME)\n",
    "except Exception as ex:\n",
    "    print('Error: ', ex)"
   ]
  },
  {
   "cell_type": "code",
   "execution_count": 39,
   "id": "0f7b2f0c-fc88-40ff-811b-fb37c9b9f39d",
   "metadata": {
    "tags": []
   },
   "outputs": [],
   "source": [
    "etl_driver = f\"\"\"mysql://{etl_db_username}:{etl_db_password}@{ETL_RDS_HOST_NAME}:{etl_db_port}/{etl_db_name}\"\"\""
   ]
  },
  {
   "cell_type": "code",
   "execution_count": 41,
   "id": "3be69882-ecab-4ed1-aeff-8e17034af9b4",
   "metadata": {
    "tags": []
   },
   "outputs": [
    {
     "name": "stdout",
     "output_type": "stream",
     "text": [
      "dwshop.cnkf6pwg5si3.us-east-2.rds.amazonaws.com\n"
     ]
    }
   ],
   "source": [
    "try:\n",
    "    tran_instance = aws_rds_conn.describe_db_instances(DBInstanceIdentifier=tran_db_instance_id)\n",
    "    TRAN_RDS_HOST_NAME = instance.get('DBInstances')[0].get('Endpoint').get('Address')\n",
    "    print(TRAN_RDS_HOST_NAME)\n",
    "except Exception as ex:\n",
    "    print('Error: ', ex)"
   ]
  },
  {
   "cell_type": "markdown",
   "id": "38fe01d2-40a8-4ba7-bf1e-eea1845d4745",
   "metadata": {},
   "source": [
    "# Creation of ETL system"
   ]
  },
  {
   "cell_type": "code",
   "execution_count": null,
   "id": "87021b4d-4a09-4497-899a-792330a7ebb8",
   "metadata": {},
   "outputs": [],
   "source": [
    "\n",
    "# -- Creación de la dimensión Categoría\n",
    "# CREATE TABLE dim_categoria (\n",
    "#   categoria_id SERIAL PRIMARY KEY,\n",
    "#   nombre VARCHAR(50),\n",
    "#   descripcion VARCHAR(255)\n",
    "# );\n",
    "\n",
    "# -- Creación de la dimensión Producto\n",
    "# CREATE TABLE dim_producto (\n",
    "#   producto_id SERIAL PRIMARY KEY,\n",
    "#   codigo VARCHAR(50),\n",
    "#   nombre VARCHAR(100),\n",
    "#   descripcion VARCHAR(255),\n",
    "#   categoria_id INTEGER REFERENCES dim_categoria(categoria_id)\n",
    "# );\n",
    "\n",
    "# -- Creación de la dimensión Empleado\n",
    "# CREATE TABLE dim_empleado (\n",
    "#   empleado_id SERIAL PRIMARY KEY,\n",
    "#   nombre VARCHAR(100),\n",
    "#   tipo_documento VARCHAR(20),\n",
    "#   num_documento VARCHAR(20),\n",
    "#   direccion VARCHAR(70),\n",
    "#   telefono VARCHAR(20),\n",
    "#   email VARCHAR(50)\n",
    "# );\n",
    "\n",
    "# -- Creación de la dimensión Comprobante\n",
    "# CREATE TABLE dim_comprobante (\n",
    "#   comprobante_id SERIAL PRIMARY KEY,\n",
    "#   tipo_comprobante VARCHAR(20)\n",
    "# );\n",
    "\n",
    "# -- Creación de la tabla de hechos Ventas\n",
    "# CREATE TABLE fact_ventas (\n",
    "#   venta_id SERIAL PRIMARY KEY,\n",
    "#   producto_id INTEGER REFERENCES dim_producto(producto_id),\n",
    "#   empleado_id INTEGER REFERENCES dim_empleado(empleado_id),\n",
    "#   comprobante_id INTEGER REFERENCES dim_comprobante(comprobante_id),\n",
    "#   cantidad INTEGER,\n",
    "#   precio_venta DECIMAL(11,2),\n",
    "#   descuento DECIMAL(11,2),\n",
    "#   total_venta DECIMAL(11,2),\n",
    "#   fecha TIMESTAMP\n",
    "# );\n",
    "sql_query = '''SELECT * FROM categoria;'''\n",
    "df_categoria = pd.read_sql(sql_query, driver)\n",
    "\n",
    "df_categoria"
   ]
  }
 ],
 "metadata": {
  "kernelspec": {
   "display_name": "Python 3 (ipykernel)",
   "language": "python",
   "name": "python3"
  },
  "language_info": {
   "codemirror_mode": {
    "name": "ipython",
    "version": 3
   },
   "file_extension": ".py",
   "mimetype": "text/x-python",
   "name": "python",
   "nbconvert_exporter": "python",
   "pygments_lexer": "ipython3",
   "version": "3.11.5"
  }
 },
 "nbformat": 4,
 "nbformat_minor": 5
}
