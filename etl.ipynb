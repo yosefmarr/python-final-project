{
 "cells": [
  {
   "cell_type": "code",
   "execution_count": 7,
   "id": "56d4a45c-9b81-4b9d-bcb4-34ac721e495b",
   "metadata": {
    "tags": []
   },
   "outputs": [],
   "source": [
    "import boto3\n",
    "import pandas as pd\n",
    "import numpy as np\n",
    "import configparser\n",
    "import psycopg2\n",
    "import hashlib\n",
    "import uuid\n",
    "from faker import Faker\n",
    "import random"
   ]
  },
  {
   "cell_type": "markdown",
   "id": "565b550a-1d2a-4774-a392-36b7624e5132",
   "metadata": {},
   "source": [
    "# Config setup"
   ]
  },
  {
   "cell_type": "code",
   "execution_count": 8,
   "id": "86efc211-3423-4016-aea3-54829971189b",
   "metadata": {
    "tags": []
   },
   "outputs": [
    {
     "data": {
      "text/plain": [
       "['etl_config.cfg']"
      ]
     },
     "execution_count": 8,
     "metadata": {},
     "output_type": "execute_result"
    }
   ],
   "source": [
    "config = configparser.ConfigParser()\n",
    "config.read('etl_config.cfg')"
   ]
  },
  {
   "cell_type": "markdown",
   "id": "c530ac0d-34c5-48ae-84ff-ed1dedb10e85",
   "metadata": {},
   "source": [
    "# AWS client connection"
   ]
  },
  {
   "cell_type": "code",
   "execution_count": 9,
   "id": "2fd0d83b-501f-446a-b31f-e2f8124c27cd",
   "metadata": {
    "tags": []
   },
   "outputs": [],
   "source": [
    "access_key = config.get('IAM', 'ACCESS_KEY')\n",
    "secret_key = config.get('IAM', 'SECRET_KEY')\n",
    "region = config.get('REGION', 'REGION_NAME')\n",
    "\n",
    "aws_rds_conn = boto3.client('rds', \n",
    "                            aws_access_key_id=access_key, \n",
    "                            aws_secret_access_key=secret_key, \n",
    "                            region_name=region)"
   ]
  },
  {
   "cell_type": "markdown",
   "id": "0358d79b-0a5d-4a8f-a09f-3e7b6930e76c",
   "metadata": {},
   "source": [
    "# AWS RDS creation"
   ]
  },
  {
   "cell_type": "code",
   "execution_count": 10,
   "id": "34f1490a-dd06-4812-a7ca-37fe35df50bd",
   "metadata": {
    "tags": []
   },
   "outputs": [],
   "source": [
    "db_instance_id = config.get('DB', 'DB_INSTANCE_ID')\n",
    "db_name = config.get('DB', 'DB_NAME')\n",
    "db_username = config.get('DB', 'DB_USERNAME')\n",
    "db_password = config.get('DB', 'DB_PASSWORD')\n",
    "db_port = config.get('DB', 'DB_PORT')\n",
    "vpc_security_group = config.get('VPC', 'SECURITY_GROUP')"
   ]
  },
  {
   "cell_type": "code",
   "execution_count": 11,
   "id": "5b3d2d98-aac2-4c3a-ba9f-36c5f5c83e70",
   "metadata": {
    "tags": []
   },
   "outputs": [
    {
     "name": "stdout",
     "output_type": "stream",
     "text": [
      "{'DBInstance': {'DBInstanceIdentifier': 'dwshop', 'DBInstanceClass': 'db.t3.micro', 'Engine': 'mysql', 'DBInstanceStatus': 'creating', 'MasterUsername': 'admin_mysql', 'DBName': 'dwshop', 'AllocatedStorage': 20, 'PreferredBackupWindow': '09:39-10:09', 'BackupRetentionPeriod': 1, 'DBSecurityGroups': [], 'VpcSecurityGroups': [{'VpcSecurityGroupId': 'sg-475da528', 'Status': 'active'}], 'DBParameterGroups': [{'DBParameterGroupName': 'default.mysql8.0', 'ParameterApplyStatus': 'in-sync'}], 'DBSubnetGroup': {'DBSubnetGroupName': 'default', 'DBSubnetGroupDescription': 'default', 'VpcId': 'vpc-a0b0bdc8', 'SubnetGroupStatus': 'Complete', 'Subnets': [{'SubnetIdentifier': 'subnet-cb70ba87', 'SubnetAvailabilityZone': {'Name': 'us-east-2c'}, 'SubnetOutpost': {}, 'SubnetStatus': 'Active'}, {'SubnetIdentifier': 'subnet-436b0939', 'SubnetAvailabilityZone': {'Name': 'us-east-2b'}, 'SubnetOutpost': {}, 'SubnetStatus': 'Active'}, {'SubnetIdentifier': 'subnet-7e4c7816', 'SubnetAvailabilityZone': {'Name': 'us-east-2a'}, 'SubnetOutpost': {}, 'SubnetStatus': 'Active'}]}, 'PreferredMaintenanceWindow': 'thu:04:48-thu:05:18', 'PendingModifiedValues': {'MasterUserPassword': '****'}, 'MultiAZ': False, 'EngineVersion': '8.0.35', 'AutoMinorVersionUpgrade': True, 'ReadReplicaDBInstanceIdentifiers': [], 'LicenseModel': 'general-public-license', 'OptionGroupMemberships': [{'OptionGroupName': 'default:mysql-8-0', 'Status': 'in-sync'}], 'PubliclyAccessible': True, 'StorageType': 'gp2', 'DbInstancePort': 0, 'StorageEncrypted': False, 'DbiResourceId': 'db-B2JPO6R6HNIEZPJYREJIW3GEY4', 'CACertificateIdentifier': 'rds-ca-rsa2048-g1', 'DomainMemberships': [], 'CopyTagsToSnapshot': False, 'MonitoringInterval': 0, 'DBInstanceArn': 'arn:aws:rds:us-east-2:272401166215:db:dwshop', 'IAMDatabaseAuthenticationEnabled': False, 'PerformanceInsightsEnabled': False, 'DeletionProtection': False, 'AssociatedRoles': [], 'TagList': [], 'CustomerOwnedIpEnabled': False, 'BackupTarget': 'region', 'NetworkType': 'IPV4', 'StorageThroughput': 0, 'CertificateDetails': {'CAIdentifier': 'rds-ca-rsa2048-g1'}}, 'ResponseMetadata': {'RequestId': 'cab7daac-1f29-4688-97f7-8beb3a058779', 'HTTPStatusCode': 200, 'HTTPHeaders': {'x-amzn-requestid': 'cab7daac-1f29-4688-97f7-8beb3a058779', 'strict-transport-security': 'max-age=31536000', 'content-type': 'text/xml', 'content-length': '3388', 'date': 'Thu, 11 Apr 2024 03:49:51 GMT'}, 'RetryAttempts': 0}}\n"
     ]
    }
   ],
   "source": [
    "try:\n",
    "    response = aws_rds_conn.create_db_instance(\n",
    "        DBInstanceIdentifier=db_instance_id,\n",
    "        DBName=db_name,\n",
    "        MasterUsername=db_username,\n",
    "        MasterUserPassword=db_password,\n",
    "        Port=int(db_port),\n",
    "        DBInstanceClass='db.t3.micro',\n",
    "        Engine='mysql',\n",
    "        PubliclyAccessible=True,\n",
    "        AllocatedStorage=20,\n",
    "        VpcSecurityGroupIds=[vpc_security_group]\n",
    "    )\n",
    "    print(response)\n",
    "except aws_rds_conn.exceptions.DBInstanceAlreadyExistsFault:\n",
    "    print('La instancia ya existe')\n",
    "except Exception as ex:\n",
    "    print(f\"Error: ${ex}\")"
   ]
  },
  {
   "cell_type": "markdown",
   "id": "0aec7d63-7855-4a02-ae15-c196704e533d",
   "metadata": {},
   "source": [
    "# RDS host name"
   ]
  },
  {
   "cell_type": "code",
   "execution_count": null,
   "id": "bcb5dbec-b87d-45de-978d-f18cf9e7122a",
   "metadata": {},
   "outputs": [],
   "source": [
    "try:\n",
    "    instance = aws_rds_conn.describe_db_instances(DBInstanceIdentifier=db_instance_id)\n",
    "    RDS_HOST_NAME = instance.get('DBInstances')[0].get('Endpoint').get('Address')\n",
    "    print(RDS_HOST_NAME)\n",
    "except Exception as ex:\n",
    "    print('Error: ', ex)"
   ]
  },
  {
   "cell_type": "markdown",
   "id": "38fe01d2-40a8-4ba7-bf1e-eea1845d4745",
   "metadata": {},
   "source": [
    "# Creation of ETL system"
   ]
  },
  {
   "cell_type": "code",
   "execution_count": null,
   "id": "87021b4d-4a09-4497-899a-792330a7ebb8",
   "metadata": {},
   "outputs": [],
   "source": [
    "\n",
    "# -- Creación de la dimensión Categoría\n",
    "# CREATE TABLE dim_categoria (\n",
    "#   categoria_id SERIAL PRIMARY KEY,\n",
    "#   nombre VARCHAR(50),\n",
    "#   descripcion VARCHAR(255)\n",
    "# );\n",
    "\n",
    "# -- Creación de la dimensión Producto\n",
    "# CREATE TABLE dim_producto (\n",
    "#   producto_id SERIAL PRIMARY KEY,\n",
    "#   codigo VARCHAR(50),\n",
    "#   nombre VARCHAR(100),\n",
    "#   descripcion VARCHAR(255),\n",
    "#   categoria_id INTEGER REFERENCES dim_categoria(categoria_id)\n",
    "# );\n",
    "\n",
    "# -- Creación de la dimensión Empleado\n",
    "# CREATE TABLE dim_empleado (\n",
    "#   empleado_id SERIAL PRIMARY KEY,\n",
    "#   nombre VARCHAR(100),\n",
    "#   tipo_documento VARCHAR(20),\n",
    "#   num_documento VARCHAR(20),\n",
    "#   direccion VARCHAR(70),\n",
    "#   telefono VARCHAR(20),\n",
    "#   email VARCHAR(50)\n",
    "# );\n",
    "\n",
    "# -- Creación de la dimensión Comprobante\n",
    "# CREATE TABLE dim_comprobante (\n",
    "#   comprobante_id SERIAL PRIMARY KEY,\n",
    "#   tipo_comprobante VARCHAR(20)\n",
    "# );\n",
    "\n",
    "# -- Creación de la tabla de hechos Ventas\n",
    "# CREATE TABLE fact_ventas (\n",
    "#   venta_id SERIAL PRIMARY KEY,\n",
    "#   producto_id INTEGER REFERENCES dim_producto(producto_id),\n",
    "#   empleado_id INTEGER REFERENCES dim_empleado(empleado_id),\n",
    "#   comprobante_id INTEGER REFERENCES dim_comprobante(comprobante_id),\n",
    "#   cantidad INTEGER,\n",
    "#   precio_venta DECIMAL(11,2),\n",
    "#   descuento DECIMAL(11,2),\n",
    "#   total_venta DECIMAL(11,2),\n",
    "#   fecha TIMESTAMP\n",
    "# );\n"
   ]
  }
 ],
 "metadata": {
  "kernelspec": {
   "display_name": "Python 3 (ipykernel)",
   "language": "python",
   "name": "python3"
  },
  "language_info": {
   "codemirror_mode": {
    "name": "ipython",
    "version": 3
   },
   "file_extension": ".py",
   "mimetype": "text/x-python",
   "name": "python",
   "nbconvert_exporter": "python",
   "pygments_lexer": "ipython3",
   "version": "3.11.5"
  }
 },
 "nbformat": 4,
 "nbformat_minor": 5
}
